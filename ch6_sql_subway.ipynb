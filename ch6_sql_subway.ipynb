{
 "cells": [
  {
   "cell_type": "code",
   "execution_count": null,
   "metadata": {},
   "outputs": [],
   "source": [
    "#################################\n",
    "# csv 파일 불러와서 DB table에 넣기\n",
    "# 데이터: 지하철 승하차\n",
    "https://data.seoul.go.kr/dataList/OA-12914/S/1/datasetView.do#\n",
    "#################################\n",
    "\n",
    "# 0. 데이터베이스 생성 (MySQL worchbench에서)\n",
    "# 1. 데이터베이스 테이블 생성\n",
    "# 2. pandas에서 csv 파일 불러오기\n",
    "# 3. insert_into_table 함수 수정해서 csv 파일의 내용을 table에 저장\n",
    "# 4. read_table 함수를 이용해서 저장된 내용 확인 (worchbench로 먼저 확인)\n",
    "#    read_table 함수에는 limit 값 입력 받아서(ex 10,10)"
   ]
  },
  {
   "cell_type": "markdown",
   "metadata": {},
   "source": [
    "# ENV"
   ]
  },
  {
   "cell_type": "code",
   "execution_count": null,
   "metadata": {},
   "outputs": [],
   "source": [
    "# !pip install pandas"
   ]
  },
  {
   "cell_type": "code",
   "execution_count": 2,
   "metadata": {},
   "outputs": [],
   "source": [
    "import glob\n",
    "\n",
    "import pandas as pd\n",
    "import pymysql"
   ]
  },
  {
   "cell_type": "markdown",
   "metadata": {},
   "source": [
    "# 데이터 확인 - 생략 가능"
   ]
  },
  {
   "cell_type": "code",
   "execution_count": 4,
   "metadata": {},
   "outputs": [
    {
     "data": {
      "text/html": [
       "<div>\n",
       "<style scoped>\n",
       "    .dataframe tbody tr th:only-of-type {\n",
       "        vertical-align: middle;\n",
       "    }\n",
       "\n",
       "    .dataframe tbody tr th {\n",
       "        vertical-align: top;\n",
       "    }\n",
       "\n",
       "    .dataframe thead th {\n",
       "        text-align: right;\n",
       "    }\n",
       "</style>\n",
       "<table border=\"1\" class=\"dataframe\">\n",
       "  <thead>\n",
       "    <tr style=\"text-align: right;\">\n",
       "      <th></th>\n",
       "      <th>사용일자</th>\n",
       "      <th>노선명</th>\n",
       "      <th>역명</th>\n",
       "      <th>승차총승객수</th>\n",
       "      <th>하차총승객수</th>\n",
       "      <th>등록일자</th>\n",
       "    </tr>\n",
       "  </thead>\n",
       "  <tbody>\n",
       "    <tr>\n",
       "      <th>0</th>\n",
       "      <td>20231101</td>\n",
       "      <td>8호선</td>\n",
       "      <td>단대오거리</td>\n",
       "      <td>13482</td>\n",
       "      <td>13072</td>\n",
       "      <td>20231104</td>\n",
       "    </tr>\n",
       "    <tr>\n",
       "      <th>1</th>\n",
       "      <td>20231101</td>\n",
       "      <td>중앙선</td>\n",
       "      <td>원덕</td>\n",
       "      <td>372</td>\n",
       "      <td>362</td>\n",
       "      <td>20231104</td>\n",
       "    </tr>\n",
       "    <tr>\n",
       "      <th>2</th>\n",
       "      <td>20231101</td>\n",
       "      <td>중앙선</td>\n",
       "      <td>용문</td>\n",
       "      <td>2194</td>\n",
       "      <td>2097</td>\n",
       "      <td>20231104</td>\n",
       "    </tr>\n",
       "    <tr>\n",
       "      <th>3</th>\n",
       "      <td>20231101</td>\n",
       "      <td>중앙선</td>\n",
       "      <td>지평</td>\n",
       "      <td>72</td>\n",
       "      <td>71</td>\n",
       "      <td>20231104</td>\n",
       "    </tr>\n",
       "    <tr>\n",
       "      <th>4</th>\n",
       "      <td>20231101</td>\n",
       "      <td>우이신설선</td>\n",
       "      <td>4.19민주묘지</td>\n",
       "      <td>4515</td>\n",
       "      <td>4447</td>\n",
       "      <td>20231104</td>\n",
       "    </tr>\n",
       "  </tbody>\n",
       "</table>\n",
       "</div>"
      ],
      "text/plain": [
       "       사용일자    노선명        역명  승차총승객수  하차총승객수      등록일자\n",
       "0  20231101    8호선     단대오거리   13482   13072  20231104\n",
       "1  20231101    중앙선        원덕     372     362  20231104\n",
       "2  20231101    중앙선        용문    2194    2097  20231104\n",
       "3  20231101    중앙선        지평      72      71  20231104\n",
       "4  20231101  우이신설선  4.19민주묘지    4515    4447  20231104"
      ]
     },
     "execution_count": 4,
     "metadata": {},
     "output_type": "execute_result"
    }
   ],
   "source": [
    "filename = 'CARD_SUBWAY_MONTH_202311.csv'\n",
    "df = pd.read_csv(filename, index_col=False)\n",
    "df.head()"
   ]
  },
  {
   "cell_type": "code",
   "execution_count": 6,
   "metadata": {},
   "outputs": [
    {
     "data": {
      "text/plain": [
       "dtype('int64')"
      ]
     },
     "execution_count": 6,
     "metadata": {},
     "output_type": "execute_result"
    }
   ],
   "source": [
    "df['사용일자'].dtype"
   ]
  },
  {
   "cell_type": "code",
   "execution_count": 7,
   "metadata": {},
   "outputs": [
    {
     "data": {
      "text/plain": [
       "8"
      ]
     },
     "execution_count": 7,
     "metadata": {},
     "output_type": "execute_result"
    }
   ],
   "source": [
    "max(map(len, df['노선명'].unique()))"
   ]
  },
  {
   "cell_type": "code",
   "execution_count": 8,
   "metadata": {},
   "outputs": [
    {
     "data": {
      "text/plain": [
       "16"
      ]
     },
     "execution_count": 8,
     "metadata": {},
     "output_type": "execute_result"
    }
   ],
   "source": [
    "max(map(len, df['역명'].unique()))"
   ]
  },
  {
   "cell_type": "code",
   "execution_count": 10,
   "metadata": {},
   "outputs": [
    {
     "data": {
      "text/plain": [
       "(93897, 101401)"
      ]
     },
     "execution_count": 10,
     "metadata": {},
     "output_type": "execute_result"
    }
   ],
   "source": [
    "max(df['승차총승객수']), max(df['하차총승객수'])"
   ]
  },
  {
   "cell_type": "code",
   "execution_count": 38,
   "metadata": {},
   "outputs": [
    {
     "data": {
      "text/plain": [
       "20231101"
      ]
     },
     "execution_count": 38,
     "metadata": {},
     "output_type": "execute_result"
    }
   ],
   "source": [
    "df.iloc[0].iloc[0]"
   ]
  },
  {
   "cell_type": "code",
   "execution_count": 12,
   "metadata": {},
   "outputs": [
    {
     "data": {
      "text/plain": [
       "18313"
      ]
     },
     "execution_count": 12,
     "metadata": {},
     "output_type": "execute_result"
    }
   ],
   "source": [
    "len(df)"
   ]
  },
  {
   "cell_type": "markdown",
   "metadata": {},
   "source": [
    "# 함수 정의"
   ]
  },
  {
   "cell_type": "code",
   "execution_count": 4,
   "metadata": {},
   "outputs": [],
   "source": [
    "def create_table(cur, conn):\n",
    "    # database에 table을 새로 생성\n",
    "    global table_name\n",
    "    table_name = input('테이블명 ==> ')\n",
    "    # lst = []\n",
    "    # while True:\n",
    "    #     data1 = input('열이름 ==> ')\n",
    "    #     if data1 == \"\":\n",
    "    #         break\n",
    "    #     data2 = input('데이터타입 ==> ')\n",
    "\n",
    "    #     lst.append(data1+' '+data2)\n",
    "    # create_str = f\"create table {data0} ({', '.join(lst)})\"\n",
    "    create_str = f\"create table {table_name} (사용일자 int, 노선명 char(10), 역명 char(20), 승차총승객수 int, 하차총승객수 int, 등록일자 int)\"\n",
    "    cur.execute(create_str)\n",
    "    conn.commit()\n",
    "    # conn.close()\n",
    "\n",
    "\n",
    "def insert_into_table(df, table_name, cur, conn):\n",
    "    for i in range(len(df)):\n",
    "        row = df.iloc[i]\n",
    "        data1 = row['사용일자']\n",
    "        data2 = row['노선명']   # char\n",
    "        data3 = row['역명']     # char\n",
    "        data4 = row['승차총승객수']\n",
    "        data5 = row['하차총승객수']\n",
    "        data6 = row['등록일자']\n",
    "        insert_sql = (\n",
    "            f\"insert into {table_name} values({data1}, '{data2}', '{data3}', {data4}, {data5}, {data6})\"\n",
    "        )\n",
    "        cur.execute(insert_sql)\n",
    "        # print(insert_sql)\n",
    "        \n",
    "    conn.commit()\n",
    "    # conn.close()\n",
    "\n",
    "\n",
    "# 390 page : 데이터 조회\n",
    "def read_table(cur, table_name, start_idx = 0, how_many = 10):\n",
    "    cur.execute(f\"select * from {table_name} limit {start_idx}, {how_many}\")\n",
    "\n",
    "    print(\"=======================================================\")\n",
    "\n",
    "    while True:\n",
    "        row = cur.fetchone()\n",
    "        if row == None:\n",
    "            break\n",
    "        print(row)  # tuple ('hong', '홍지윤', 'hong@naver.com', 1996)\n",
    "        # data1, data2, data3, data4 = row\n",
    "        # print(\"%5s %15s %20s %d\" % (data1, data2, data3, data4))"
   ]
  },
  {
   "cell_type": "markdown",
   "metadata": {},
   "source": [
    "# CSV files 2 MySQL table"
   ]
  },
  {
   "cell_type": "code",
   "execution_count": 3,
   "metadata": {},
   "outputs": [
    {
     "data": {
      "text/plain": [
       "['CARD_SUBWAY_MONTH_2015.csv',\n",
       " 'CARD_SUBWAY_MONTH_2016.csv',\n",
       " 'CARD_SUBWAY_MONTH_2017.csv',\n",
       " 'CARD_SUBWAY_MONTH_2018.csv',\n",
       " 'CARD_SUBWAY_MONTH_2019.csv',\n",
       " 'CARD_SUBWAY_MONTH_2020.csv',\n",
       " 'CARD_SUBWAY_MONTH_2021.csv',\n",
       " 'CARD_SUBWAY_MONTH_2022.csv',\n",
       " 'CARD_SUBWAY_MONTH_202301.csv',\n",
       " 'CARD_SUBWAY_MONTH_202302.csv',\n",
       " 'CARD_SUBWAY_MONTH_202303.csv',\n",
       " 'CARD_SUBWAY_MONTH_202304.csv',\n",
       " 'CARD_SUBWAY_MONTH_202305.csv',\n",
       " 'CARD_SUBWAY_MONTH_202306.csv',\n",
       " 'CARD_SUBWAY_MONTH_202307.csv',\n",
       " 'CARD_SUBWAY_MONTH_202308.csv',\n",
       " 'CARD_SUBWAY_MONTH_202309.csv',\n",
       " 'CARD_SUBWAY_MONTH_202310.csv',\n",
       " 'CARD_SUBWAY_MONTH_202311.csv']"
      ]
     },
     "execution_count": 3,
     "metadata": {},
     "output_type": "execute_result"
    }
   ],
   "source": [
    "# 여러 csv 파일 사용\n",
    "csv_lst = glob.glob('*.csv')\n",
    "csv_lst"
   ]
  },
  {
   "cell_type": "code",
   "execution_count": 5,
   "metadata": {},
   "outputs": [],
   "source": [
    "# 1. DB 연결\n",
    "conn = pymysql.connect(host=\"127.0.0.1\", user=\"root\", password=\"0000\", db=\"subway\", charset=\"utf8\")\n",
    "\n",
    "# 2. 커서 생성\n",
    "cur = conn.cursor()"
   ]
  },
  {
   "cell_type": "code",
   "execution_count": 6,
   "metadata": {},
   "outputs": [],
   "source": [
    "# 3. table 생성\n",
    "create_table(cur, conn)"
   ]
  },
  {
   "cell_type": "code",
   "execution_count": 7,
   "metadata": {},
   "outputs": [
    {
     "data": {
      "text/plain": [
       "'subway'"
      ]
     },
     "execution_count": 7,
     "metadata": {},
     "output_type": "execute_result"
    }
   ],
   "source": [
    "# table name 확인\n",
    "# table_name = 'subway'\n",
    "table_name"
   ]
  },
  {
   "cell_type": "code",
   "execution_count": 8,
   "metadata": {},
   "outputs": [],
   "source": [
    "# 4. tahle에 데이터 넣기\n",
    "# insert_into_table(df, table_name, cur, conn)\n",
    "# # 여러 csv 파일 다 한 테이블에 넣기\n",
    "for c in csv_lst:\n",
    "    df = pd.read_csv(c, index_col=False, encoding='utf-8')\n",
    "    insert_into_table(df, table_name, cur, conn)"
   ]
  },
  {
   "cell_type": "code",
   "execution_count": 9,
   "metadata": {},
   "outputs": [
    {
     "name": "stdout",
     "output_type": "stream",
     "text": [
      "=======================================================\n",
      "(20150101, '2호선', '낙성대', 14586, 14889, 20151217)\n",
      "(20150101, '2호선', '사당', 19233, 20298, 20151217)\n",
      "(20150101, '2호선', '방배', 5920, 6065, 20151217)\n",
      "(20150101, '2호선', '서초', 4379, 4120, 20151217)\n",
      "(20150101, '분당선', '선정릉', 1972, 1828, 20151217)\n",
      "(20150101, '분당선', '가천대', 2512, 3332, 20151217)\n",
      "(20150101, '분당선', '태평', 7637, 7899, 20151217)\n",
      "(20150101, '분당선', '모란', 11155, 11269, 20151217)\n",
      "(20150101, '분당선', '야탑', 13041, 13379, 20151217)\n",
      "(20150101, '분당선', '서현', 12399, 12379, 20151217)\n"
     ]
    }
   ],
   "source": [
    "# 5. table 읽어오기\n",
    "read_table(cur, table_name)"
   ]
  },
  {
   "cell_type": "code",
   "execution_count": 10,
   "metadata": {},
   "outputs": [
    {
     "name": "stdout",
     "output_type": "stream",
     "text": [
      "=======================================================\n",
      "(20170621, '6호선', '응암', 20379, 19917, 20170624)\n",
      "(20170621, '6호선', '역촌', 4389, 5189, 20170624)\n",
      "(20170621, '6호선', '불광', 6065, 6083, 20170624)\n",
      "(20170621, '6호선', '독바위', 3404, 3548, 20170624)\n",
      "(20170621, '6호선', '연신내', 1, 0, 20170624)\n"
     ]
    }
   ],
   "source": [
    "read_table(cur, table_name, start_idx=500000, how_many=5)"
   ]
  },
  {
   "cell_type": "code",
   "execution_count": 11,
   "metadata": {},
   "outputs": [],
   "source": [
    "# 6. 연결 끊기\n",
    "conn.close()"
   ]
  },
  {
   "cell_type": "markdown",
   "metadata": {},
   "source": [
    "# Troubleshooting"
   ]
  },
  {
   "cell_type": "code",
   "execution_count": null,
   "metadata": {},
   "outputs": [],
   "source": [
    "# 에러: 2020년 파일 71421번째 줄부터 없던 ,\"\" 이 생김 => replace_in_file함수로 없애주면서 인코딩 바꿈\n",
    "# 에러: 2021년 파일 200593번째 줄 보니까, 두줄이 붙어있음 => 셀프 수정(메모장에서 엔터침)"
   ]
  },
  {
   "cell_type": "code",
   "execution_count": 13,
   "metadata": {},
   "outputs": [],
   "source": [
    "# 한 파일 내에서 , 개수가 다름\n",
    "# \"20200430\",\"8호선\",\"암사\",\"10113.0\",\"8961.0\",\"20200503\"\n",
    "# \"20200501\",\"중앙선\",\"운길산\",\"1349\",\"1358\",\"20200504\",\"\"\n",
    "# 모든 파일 읽어와서 ,\"\" 없애기\n",
    "\n",
    "\n",
    "def replace_in_file(file_path, old_str, new_str):\n",
    "    # 파일 읽어들이기\n",
    "    fr = open(file_path, 'r', encoding='utf-8')\n",
    "    lines = fr.readlines()\n",
    "    fr.close()\n",
    "    \n",
    "    # old_str -> new_str 치환\n",
    "    fw = open(file_path, 'w', encoding='utf-8')\n",
    "    for line in lines:\n",
    "        fw.write(line.replace(old_str, new_str))\n",
    "    fw.close()\n",
    "\n",
    "# csv 파일에서 ,\"\" 없애기\n",
    "for c in csv_lst:\n",
    "    replace_in_file(c, ',\"\"', '')"
   ]
  },
  {
   "cell_type": "code",
   "execution_count": 12,
   "metadata": {},
   "outputs": [
    {
     "data": {
      "text/plain": [
       "1898875"
      ]
     },
     "execution_count": 12,
     "metadata": {},
     "output_type": "execute_result"
    }
   ],
   "source": [
    "# 길이 확인\n",
    "total = 0\n",
    "for c in csv_lst:\n",
    "    df = pd.read_csv(c, index_col=False, encoding='utf-8')\n",
    "    total += len(df)\n",
    "total"
   ]
  },
  {
   "cell_type": "code",
   "execution_count": null,
   "metadata": {},
   "outputs": [],
   "source": []
  }
 ],
 "metadata": {
  "kernelspec": {
   "display_name": "mySQL",
   "language": "python",
   "name": "python3"
  },
  "language_info": {
   "codemirror_mode": {
    "name": "ipython",
    "version": 3
   },
   "file_extension": ".py",
   "mimetype": "text/x-python",
   "name": "python",
   "nbconvert_exporter": "python",
   "pygments_lexer": "ipython3",
   "version": "3.9.18"
  }
 },
 "nbformat": 4,
 "nbformat_minor": 2
}
